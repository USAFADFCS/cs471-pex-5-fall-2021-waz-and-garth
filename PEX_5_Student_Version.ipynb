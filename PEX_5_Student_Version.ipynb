{
  "nbformat": 4,
  "nbformat_minor": 0,
  "metadata": {
    "colab": {
      "name": "PEX 5 Student Version.ipynb",
      "provenance": [],
      "collapsed_sections": []
    },
    "kernelspec": {
      "name": "python3",
      "display_name": "Python 3"
    },
    "language_info": {
      "name": "python"
    }
  },
  "cells": [
    {
      "cell_type": "markdown",
      "metadata": {
        "id": "4KBl_Syo5Fc5"
      },
      "source": [
        "### Partner 1 Name\n",
        "### Parnter 2 Name\n",
        "### Documentation Statement"
      ]
    },
    {
      "cell_type": "markdown",
      "metadata": {
        "id": "wNElZJ2ZOEHQ"
      },
      "source": [
        "#PEX 5 YOLO!\n",
        "## 80 Points\n",
        "\n",
        "In PEX 5 you will train the YOLO object detection algorihtm to detect objects that interest you. If you are not feeling creative, you can collect data and train a model to detect playing card suits and face values. You will then do something interesting with your model. For example, with the playing card data set, you can use the web cam to play blackjack without user input. \n",
        "\n",
        "The graded objectives for PEX 5 are:\n",
        "\n",
        "(10 pts) Collect and label data for use in building a custom YOLO model\n",
        "\n",
        "(20 pts) Train the YOLO model to high accuracy for your domain\n",
        "\n",
        "  **\"Lt Col Maher, what is high accuracy?\" ... It depends on your domain. If you want to make sure you recieve full credit, write down all of your efforts to improve the accuracy of the model, and write a statement why you think you have achieved peak accuracy in this model. Charts and graphs will help to justify your stance. \n",
        "\n",
        "(10 pts) Use data analysis to interpret the Mean Average Precision, accuracy and recall of your model\n",
        "\n",
        "(20 pts) Enable object detection through a web camera\n",
        "\n",
        "(20 pts) Write code that does something interesting with your model. \n",
        "\n",
        "(10 pts) Write a 300-500 word essay describing the possible ethical implications of your project. Reference an ethical framework to justify your view. \n"
      ]
    },
    {
      "cell_type": "markdown",
      "metadata": {
        "id": "uFLMd6hqQ3q_"
      },
      "source": [
        "**AUTHORIZED RESOURCES:** Any material from the CS 471 course site and online resources. You may reuse online code as long as you describe what the code is doing in your comments and you modify it to solve this problem. Don't forget to document any online code sources. \n",
        "\n",
        "**NOTE:**\n",
        "\n",
        "*  Never copy another person’s or group’s work and submit it as your own.\n",
        "*  Do not jointly create a program or complete this assignment unless explicitly allowed.\n",
        "*   You must document all help received from sources other than your instructor or instructor-provided course materials (including your textbook).\n",
        "\n",
        "**Documentation Policy:**\n",
        "\n",
        "*   You must document all help received from any source other than your instructor or instructor-provided materials, including your textbook (unless directly quoting or paraphrasing).\n",
        "*   The documentation statement must explicitly describe WHAT assistance was provided, WHERE on the assignment the assistance was provided, and WHO provided the assistance, and HOW it was used in completing the assignment.\n",
        "*   If no help was received on this assignment, the documentation statement must state “None.”\n",
        "*   If you checked answers with anyone, you must document with whom on which problems. You must document whether or not you made any changes, and if you did make changes you must document the problems you changed and the reasons why.\n",
        "*   Vague documentation statements must be corrected before the assignment will be graded and will result in a 5% deduction on the assignment.\n",
        "\n",
        "**Turn-in Policies:**\n",
        "\n",
        "*   On-time turn-in is at the specific day and time listed above.\n",
        "*   Post the required solution files to your Github Classroom repo.\n",
        "*   Only 1 turn-in required per team.\n",
        "\n",
        "\n",
        "\n",
        "\n"
      ]
    },
    {
      "cell_type": "markdown",
      "metadata": {
        "id": "b6p6HAuM4HGM"
      },
      "source": [
        "## (10 pts) Task 1 Train and Label data for use in building a custom YOLO model. \n",
        "I recommend creating an account with Roboflow.com to upload pictures and label the data set. There are several other tools available that you are welcome to use. If you use another tool, I will need a way to access your data; please provide that method in the text box below. If you use Roboflow, copy and paste the link to your Roboflow project page below."
      ]
    },
    {
      "cell_type": "markdown",
      "metadata": {
        "id": "OzQB-nUy4u5p"
      },
      "source": [
        "### Answer to Task 1"
      ]
    },
    {
      "cell_type": "markdown",
      "metadata": {
        "id": "rKRqdZzf4xOx"
      },
      "source": [
        "## (20 pts) Task 2 Train a Yolo model to high accuracy. \n",
        "\n",
        "Keep a log of your experimentation with improving your model. "
      ]
    },
    {
      "cell_type": "code",
      "metadata": {
        "id": "OXTPCt0g5AHo"
      },
      "source": [
        "##Answer to Task 2. Paste your code here. You may use code from the internet and in-class exercises "
      ],
      "execution_count": null,
      "outputs": []
    },
    {
      "cell_type": "markdown",
      "metadata": {
        "id": "qv40JgCq5WRI"
      },
      "source": [
        "## (20 pts) Task 3 Justify how well your model performs\n",
        "Provide charts showing at least the Mean Average Precision, Accuracy, and Recall of your model. Discuss the charts and what these results mean. You may want to include a discussion on overfitting and underfitting in your discussion. "
      ]
    },
    {
      "cell_type": "code",
      "metadata": {
        "id": "dBi5Qy_n5m3L"
      },
      "source": [
        "#Answer to Task 3. Place any code you use in this box"
      ],
      "execution_count": null,
      "outputs": []
    },
    {
      "cell_type": "markdown",
      "metadata": {
        "id": "EzJlZA7v5sR3"
      },
      "source": [
        "###Answer to Task 3. \n",
        "Add any discussion of your models to this box. "
      ]
    },
    {
      "cell_type": "markdown",
      "metadata": {
        "id": "ys-bw08N5xVj"
      },
      "source": [
        "##(20 pts) Task 4. Connect your model to Webcam streaming\n",
        "\n",
        "Enable your model to predict in real-time on a web camera, using your custom model. If the objects you train your model to are not something commonly available, please provide the web cam code and a pre-recorded video of you detecting the object. \n",
        "\n",
        "Hint: On the left hand side, Google Colab gives you code for accessing your webcam with Javascript. Use this code to get your webcam working. YOLO has a webcam input functionality built-in, but you cannot use this functionality, because it is attempting to open the webcam on Google's server and not your laptop. To execute this step\n",
        "\n",
        "1.   Modify the webcam code so that it will open the webcam,\n",
        "2.   take a picture,\n",
        "1.   close the webcam,\n",
        "2.   run the detection algorithm,\n",
        "1.   display the detection image\n",
        "2.   and then repeat 5 times.\n",
        "\n",
        "This will not be the same as real-time webcam footage, but it will get you as close as you can get on Google Colab. \n"
      ]
    },
    {
      "cell_type": "code",
      "metadata": {
        "id": "gVSuo4C4524j"
      },
      "source": [
        "##Answer to Task 4. Paste your code here. You may use code from the internet and in-class exercises "
      ],
      "execution_count": null,
      "outputs": []
    },
    {
      "cell_type": "markdown",
      "metadata": {
        "id": "ypCp6QEX6IB4"
      },
      "source": [
        "###Answer to Task 4\n",
        "(Optional) Add pre-recorded video, if necessary."
      ]
    },
    {
      "cell_type": "markdown",
      "metadata": {
        "id": "cfzjxmhy7jbI"
      },
      "source": [
        "##(10 pts) Task 5. Create something interesting using your model\n",
        "\n",
        "You have a limited time, so don't make this a huge feature, just something cool your model could do. For example, something that counts the objects coming across the webcam would receive full points. If you have a more creative idea, I may be inclined to add some bonus points, but make sure you are taking care of your other classwork as well. "
      ]
    },
    {
      "cell_type": "markdown",
      "metadata": {
        "id": "KvelYJcI8Ove"
      },
      "source": [
        "### (10 pts) Task 6. Write 300-500 words on the ethical implications of your project.\n",
        "Make sure you support your thoughts with ethical frameworks from ACM, IEEE, or any other reputible source. "
      ]
    },
    {
      "cell_type": "markdown",
      "metadata": {
        "id": "Ktf121Zv8c8c"
      },
      "source": [
        "##Answer to Task 6"
      ]
    }
  ]
}