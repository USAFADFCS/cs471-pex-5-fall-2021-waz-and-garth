{
  "nbformat": 4,
  "nbformat_minor": 0,
  "metadata": {
    "colab": {
      "name": "PEX_5_Student_Version.ipynb",
      "provenance": [],
      "collapsed_sections": [],
      "machine_shape": "hm",
      "include_colab_link": true
    },
    "kernelspec": {
      "name": "python3",
      "display_name": "Python 3"
    },
    "language_info": {
      "name": "python"
    },
    "accelerator": "GPU"
  },
  "cells": [
    {
      "cell_type": "markdown",
      "metadata": {
        "id": "view-in-github",
        "colab_type": "text"
      },
      "source": [
        "<a href=\"https://colab.research.google.com/github/USAFADFCS/cs471-pex-5-fall-2021-waz-and-garth/blob/main/PEX_5_Student_Version.ipynb\" target=\"_parent\"><img src=\"https://colab.research.google.com/assets/colab-badge.svg\" alt=\"Open In Colab\"/></a>"
      ]
    },
    {
      "cell_type": "markdown",
      "metadata": {
        "id": "4KBl_Syo5Fc5"
      },
      "source": [
        "### Partner 1 Name: Devin Wasilefsky\n",
        "### Parnter 2 Name: Garth Knutson\n",
        "### Documentation Statement: We used a lot of stack overflow and we also used the colab provided in class to help with this assignment."
      ]
    },
    {
      "cell_type": "markdown",
      "metadata": {
        "id": "wNElZJ2ZOEHQ"
      },
      "source": [
        "#PEX 5 YOLO!\n",
        "## 80 Points\n",
        "\n",
        "In PEX 5 you will train the YOLO object detection algorihtm to detect objects that interest you. If you are not feeling creative, you can collect data and train a model to detect playing card suits and face values. You will then do something interesting with your model. For example, with the playing card data set, you can use the web cam to play blackjack without user input. \n",
        "\n",
        "The graded objectives for PEX 5 are:\n",
        "\n",
        "(10 pts) Collect and label data for use in building a custom YOLO model\n",
        "\n",
        "(20 pts) Train the YOLO model to high accuracy for your domain\n",
        "\n",
        "  **\"Lt Col Maher, what is high accuracy?\" ... It depends on your domain. If you want to make sure you recieve full credit, write down all of your efforts to improve the accuracy of the model, and write a statement why you think you have achieved peak accuracy in this model. Charts and graphs will help to justify your stance. \n",
        "\n",
        "(10 pts) Use data analysis to interpret the Mean Average Precision, accuracy and recall of your model\n",
        "\n",
        "(20 pts) Enable object detection through a web camera\n",
        "\n",
        "(20 pts) Write code that does something interesting with your model. \n",
        "\n",
        "(10 pts) Write a 300-500 word essay describing the possible ethical implications of your project. Reference an ethical framework to justify your view. \n"
      ]
    },
    {
      "cell_type": "markdown",
      "metadata": {
        "id": "uFLMd6hqQ3q_"
      },
      "source": [
        "**AUTHORIZED RESOURCES:** Any material from the CS 471 course site and online resources. You may reuse online code as long as you describe what the code is doing in your comments and you modify it to solve this problem. Don't forget to document any online code sources. \n",
        "\n",
        "**NOTE:**\n",
        "\n",
        "*  Never copy another person’s or group’s work and submit it as your own.\n",
        "*  Do not jointly create a program or complete this assignment unless explicitly allowed.\n",
        "*   You must document all help received from sources other than your instructor or instructor-provided course materials (including your textbook).\n",
        "\n",
        "**Documentation Policy:**\n",
        "\n",
        "*   You must document all help received from any source other than your instructor or instructor-provided materials, including your textbook (unless directly quoting or paraphrasing).\n",
        "*   The documentation statement must explicitly describe WHAT assistance was provided, WHERE on the assignment the assistance was provided, and WHO provided the assistance, and HOW it was used in completing the assignment.\n",
        "*   If no help was received on this assignment, the documentation statement must state “None.”\n",
        "*   If you checked answers with anyone, you must document with whom on which problems. You must document whether or not you made any changes, and if you did make changes you must document the problems you changed and the reasons why.\n",
        "*   Vague documentation statements must be corrected before the assignment will be graded and will result in a 5% deduction on the assignment.\n",
        "\n",
        "**Turn-in Policies:**\n",
        "\n",
        "*   On-time turn-in is at the specific day and time listed above.\n",
        "*   Post the required solution files to your Github Classroom repo.\n",
        "*   Only 1 turn-in required per team.\n",
        "\n",
        "\n",
        "\n",
        "\n"
      ]
    },
    {
      "cell_type": "markdown",
      "metadata": {
        "id": "b6p6HAuM4HGM"
      },
      "source": [
        "## (10 pts) Task 1 Train and Label data for use in building a custom YOLO model. \n",
        "I recommend creating an account with Roboflow.com to upload pictures and label the data set. There are several other tools available that you are welcome to use. If you use another tool, I will need a way to access your data; please provide that method in the text box below. If you use Roboflow, copy and paste the link to your Roboflow project page below."
      ]
    },
    {
      "cell_type": "markdown",
      "source": [
        "https://app.roboflow.com/devin-wasilefsky/ai-playing-cards/30\n",
        "\n",
        "If this link does not work, a zip is located in github"
      ],
      "metadata": {
        "id": "WkZS3fgwXmao"
      }
    },
    {
      "cell_type": "markdown",
      "metadata": {
        "id": "OzQB-nUy4u5p"
      },
      "source": [
        "### Answer to Task 1"
      ]
    },
    {
      "cell_type": "markdown",
      "metadata": {
        "id": "rKRqdZzf4xOx"
      },
      "source": [
        "## (20 pts) Task 2 Train a Yolo model to high accuracy. \n",
        "\n",
        "Keep a log of your experimentation with improving your model. "
      ]
    },
    {
      "cell_type": "code",
      "metadata": {
        "id": "OXTPCt0g5AHo",
        "colab": {
          "base_uri": "https://localhost:8080/"
        },
        "outputId": "d17eb7ad-5713-4510-a2fb-aca356658b0b"
      },
      "source": [
        "##Answer to Task 2. Paste your code here. You may use code from the internet and in-class exercises \n",
        "# clone YOLOv5 repository\n",
        "!git clone https://github.com/ultralytics/yolov5  # clone repo\n",
        "%cd yolov5\n",
        "!git reset --hard 886f1c03d839575afecb059accf74296fad395b6"
      ],
      "execution_count": null,
      "outputs": [
        {
          "output_type": "stream",
          "name": "stdout",
          "text": [
            "Cloning into 'yolov5'...\n",
            "remote: Enumerating objects: 10152, done.\u001b[K\n",
            "remote: Counting objects: 100% (4/4), done.\u001b[K\n",
            "remote: Compressing objects: 100% (4/4), done.\u001b[K\n",
            "remote: Total 10152 (delta 0), reused 0 (delta 0), pack-reused 10148\u001b[K\n",
            "Receiving objects: 100% (10152/10152), 10.45 MiB | 28.78 MiB/s, done.\n",
            "Resolving deltas: 100% (7032/7032), done.\n",
            "/content/yolov5\n",
            "HEAD is now at 886f1c0 DDP after autoanchor reorder (#2421)\n"
          ]
        }
      ]
    },
    {
      "cell_type": "code",
      "metadata": {
        "colab": {
          "base_uri": "https://localhost:8080/"
        },
        "id": "HzwZt75mNNDA",
        "outputId": "75f80b79-f20e-4c03-9721-2d445c89b0cb"
      },
      "source": [
        "# install dependencies as necessary\n",
        "!pip install -qr requirements.txt  # install dependencies (ignore errors)\n",
        "import torch\n",
        "\n",
        "from IPython.display import Image, clear_output  # to display images\n",
        "from utils.google_utils import gdrive_download  # to download models/datasets\n",
        "\n",
        "# clear_output()\n",
        "print('Setup complete. Using torch %s %s' % (torch.__version__, torch.cuda.get_device_properties(0) if torch.cuda.is_available() else 'CPU'))"
      ],
      "execution_count": null,
      "outputs": [
        {
          "output_type": "stream",
          "name": "stdout",
          "text": [
            "\u001b[?25l\r\u001b[K     |▌                               | 10 kB 27.6 MB/s eta 0:00:01\r\u001b[K     |█                               | 20 kB 23.8 MB/s eta 0:00:01\r\u001b[K     |█▋                              | 30 kB 17.9 MB/s eta 0:00:01\r\u001b[K     |██▏                             | 40 kB 15.2 MB/s eta 0:00:01\r\u001b[K     |██▊                             | 51 kB 8.3 MB/s eta 0:00:01\r\u001b[K     |███▎                            | 61 kB 7.7 MB/s eta 0:00:01\r\u001b[K     |███▉                            | 71 kB 8.5 MB/s eta 0:00:01\r\u001b[K     |████▍                           | 81 kB 9.5 MB/s eta 0:00:01\r\u001b[K     |█████                           | 92 kB 9.7 MB/s eta 0:00:01\r\u001b[K     |█████▌                          | 102 kB 7.9 MB/s eta 0:00:01\r\u001b[K     |██████                          | 112 kB 7.9 MB/s eta 0:00:01\r\u001b[K     |██████▋                         | 122 kB 7.9 MB/s eta 0:00:01\r\u001b[K     |███████▏                        | 133 kB 7.9 MB/s eta 0:00:01\r\u001b[K     |███████▊                        | 143 kB 7.9 MB/s eta 0:00:01\r\u001b[K     |████████▎                       | 153 kB 7.9 MB/s eta 0:00:01\r\u001b[K     |████████▉                       | 163 kB 7.9 MB/s eta 0:00:01\r\u001b[K     |█████████▍                      | 174 kB 7.9 MB/s eta 0:00:01\r\u001b[K     |██████████                      | 184 kB 7.9 MB/s eta 0:00:01\r\u001b[K     |██████████▍                     | 194 kB 7.9 MB/s eta 0:00:01\r\u001b[K     |███████████                     | 204 kB 7.9 MB/s eta 0:00:01\r\u001b[K     |███████████▌                    | 215 kB 7.9 MB/s eta 0:00:01\r\u001b[K     |████████████                    | 225 kB 7.9 MB/s eta 0:00:01\r\u001b[K     |████████████▋                   | 235 kB 7.9 MB/s eta 0:00:01\r\u001b[K     |█████████████▏                  | 245 kB 7.9 MB/s eta 0:00:01\r\u001b[K     |█████████████▊                  | 256 kB 7.9 MB/s eta 0:00:01\r\u001b[K     |██████████████▎                 | 266 kB 7.9 MB/s eta 0:00:01\r\u001b[K     |██████████████▉                 | 276 kB 7.9 MB/s eta 0:00:01\r\u001b[K     |███████████████▍                | 286 kB 7.9 MB/s eta 0:00:01\r\u001b[K     |████████████████                | 296 kB 7.9 MB/s eta 0:00:01\r\u001b[K     |████████████████▌               | 307 kB 7.9 MB/s eta 0:00:01\r\u001b[K     |█████████████████               | 317 kB 7.9 MB/s eta 0:00:01\r\u001b[K     |█████████████████▋              | 327 kB 7.9 MB/s eta 0:00:01\r\u001b[K     |██████████████████▏             | 337 kB 7.9 MB/s eta 0:00:01\r\u001b[K     |██████████████████▊             | 348 kB 7.9 MB/s eta 0:00:01\r\u001b[K     |███████████████████▎            | 358 kB 7.9 MB/s eta 0:00:01\r\u001b[K     |███████████████████▉            | 368 kB 7.9 MB/s eta 0:00:01\r\u001b[K     |████████████████████▍           | 378 kB 7.9 MB/s eta 0:00:01\r\u001b[K     |████████████████████▉           | 389 kB 7.9 MB/s eta 0:00:01\r\u001b[K     |█████████████████████▍          | 399 kB 7.9 MB/s eta 0:00:01\r\u001b[K     |██████████████████████          | 409 kB 7.9 MB/s eta 0:00:01\r\u001b[K     |██████████████████████▌         | 419 kB 7.9 MB/s eta 0:00:01\r\u001b[K     |███████████████████████         | 430 kB 7.9 MB/s eta 0:00:01\r\u001b[K     |███████████████████████▋        | 440 kB 7.9 MB/s eta 0:00:01\r\u001b[K     |████████████████████████▏       | 450 kB 7.9 MB/s eta 0:00:01\r\u001b[K     |████████████████████████▊       | 460 kB 7.9 MB/s eta 0:00:01\r\u001b[K     |█████████████████████████▎      | 471 kB 7.9 MB/s eta 0:00:01\r\u001b[K     |█████████████████████████▉      | 481 kB 7.9 MB/s eta 0:00:01\r\u001b[K     |██████████████████████████▍     | 491 kB 7.9 MB/s eta 0:00:01\r\u001b[K     |███████████████████████████     | 501 kB 7.9 MB/s eta 0:00:01\r\u001b[K     |███████████████████████████▌    | 512 kB 7.9 MB/s eta 0:00:01\r\u001b[K     |████████████████████████████    | 522 kB 7.9 MB/s eta 0:00:01\r\u001b[K     |████████████████████████████▋   | 532 kB 7.9 MB/s eta 0:00:01\r\u001b[K     |█████████████████████████████▏  | 542 kB 7.9 MB/s eta 0:00:01\r\u001b[K     |█████████████████████████████▊  | 552 kB 7.9 MB/s eta 0:00:01\r\u001b[K     |██████████████████████████████▎ | 563 kB 7.9 MB/s eta 0:00:01\r\u001b[K     |██████████████████████████████▊ | 573 kB 7.9 MB/s eta 0:00:01\r\u001b[K     |███████████████████████████████▎| 583 kB 7.9 MB/s eta 0:00:01\r\u001b[K     |███████████████████████████████▉| 593 kB 7.9 MB/s eta 0:00:01\r\u001b[K     |████████████████████████████████| 596 kB 7.9 MB/s \n",
            "\u001b[?25hSetup complete. Using torch 1.10.0+cu111 _CudaDeviceProperties(name='Tesla P100-PCIE-16GB', major=6, minor=0, total_memory=16280MB, multi_processor_count=56)\n"
          ]
        }
      ]
    },
    {
      "cell_type": "code",
      "metadata": {
        "colab": {
          "base_uri": "https://localhost:8080/"
        },
        "id": "LhmxK8uZOQy9",
        "outputId": "7556ed60-9946-4083-f1fd-f91db5fd9cf8"
      },
      "source": [
        "#follow the link below to get your download code from from Roboflow\n",
        "!pip install -q roboflow\n",
        "from roboflow import Roboflow\n",
        "rf = Roboflow(model_format=\"yolov5\", notebook=\"roboflow-yolov5\")"
      ],
      "execution_count": null,
      "outputs": [
        {
          "output_type": "stream",
          "name": "stdout",
          "text": [
            "\u001b[?25l\r\u001b[K     |██▎                             | 10 kB 21.2 MB/s eta 0:00:01\r\u001b[K     |████▌                           | 20 kB 12.7 MB/s eta 0:00:01\r\u001b[K     |██████▊                         | 30 kB 16.5 MB/s eta 0:00:01\r\u001b[K     |█████████                       | 40 kB 18.1 MB/s eta 0:00:01\r\u001b[K     |███████████▎                    | 51 kB 6.2 MB/s eta 0:00:01\r\u001b[K     |█████████████▌                  | 61 kB 7.2 MB/s eta 0:00:01\r\u001b[K     |███████████████▊                | 71 kB 8.1 MB/s eta 0:00:01\r\u001b[K     |██████████████████              | 81 kB 9.1 MB/s eta 0:00:01\r\u001b[K     |████████████████████▎           | 92 kB 10.0 MB/s eta 0:00:01\r\u001b[K     |██████████████████████▌         | 102 kB 7.9 MB/s eta 0:00:01\r\u001b[K     |████████████████████████▊       | 112 kB 7.9 MB/s eta 0:00:01\r\u001b[K     |███████████████████████████     | 122 kB 7.9 MB/s eta 0:00:01\r\u001b[K     |█████████████████████████████▎  | 133 kB 7.9 MB/s eta 0:00:01\r\u001b[K     |███████████████████████████████▌| 143 kB 7.9 MB/s eta 0:00:01\r\u001b[K     |████████████████████████████████| 145 kB 7.9 MB/s \n",
            "\u001b[K     |████████████████████████████████| 178 kB 49.2 MB/s \n",
            "\u001b[K     |████████████████████████████████| 1.1 MB 29.0 MB/s \n",
            "\u001b[K     |████████████████████████████████| 67 kB 6.2 MB/s \n",
            "\u001b[K     |████████████████████████████████| 138 kB 45.5 MB/s \n",
            "\u001b[K     |████████████████████████████████| 62 kB 738 kB/s \n",
            "\u001b[?25h  Building wheel for roboflow (setup.py) ... \u001b[?25l\u001b[?25hdone\n",
            "  Building wheel for wget (setup.py) ... \u001b[?25l\u001b[?25hdone\n",
            "\u001b[31mERROR: pip's dependency resolver does not currently take into account all the packages that are installed. This behaviour is the source of the following dependency conflicts.\n",
            "google-colab 1.0.0 requires requests~=2.23.0, but you have requests 2.26.0 which is incompatible.\n",
            "datascience 0.10.6 requires folium==0.2.1, but you have folium 0.8.3 which is incompatible.\n",
            "albumentations 0.1.12 requires imgaug<0.2.7,>=0.2.5, but you have imgaug 0.2.9 which is incompatible.\u001b[0m\n",
            "upload and label your dataset, and get an API KEY here: https://app.roboflow.com/?model=yolov5&ref=roboflow-yolov5\n"
          ]
        }
      ]
    },
    {
      "cell_type": "code",
      "metadata": {
        "colab": {
          "base_uri": "https://localhost:8080/"
        },
        "id": "hNIzIl8DNUfq",
        "outputId": "72ee6665-3846-4602-c883-5cf495816cba"
      },
      "source": [
        "!pip install roboflow\n",
        "\n",
        "from roboflow import Roboflow\n",
        "rf = Roboflow(api_key=\"SOIoAeVHOJNdIeEQlHRD\")\n",
        "project = rf.workspace().project(\"ai-playing-cards\")\n",
        "dataset = project.version(30).download(\"yolov5\")"
      ],
      "execution_count": null,
      "outputs": [
        {
          "output_type": "stream",
          "name": "stdout",
          "text": [
            "Requirement already satisfied: roboflow in /usr/local/lib/python3.7/dist-packages (0.2.0)\n",
            "Requirement already satisfied: idna==2.10 in /usr/local/lib/python3.7/dist-packages (from roboflow) (2.10)\n",
            "Requirement already satisfied: Pillow>=7.1.2 in /usr/local/lib/python3.7/dist-packages (from roboflow) (7.1.2)\n",
            "Requirement already satisfied: pyparsing==2.4.7 in /usr/local/lib/python3.7/dist-packages (from roboflow) (2.4.7)\n",
            "Requirement already satisfied: python-dotenv in /usr/local/lib/python3.7/dist-packages (from roboflow) (0.19.2)\n",
            "Requirement already satisfied: wget in /usr/local/lib/python3.7/dist-packages (from roboflow) (3.2)\n",
            "Requirement already satisfied: six in /usr/local/lib/python3.7/dist-packages (from roboflow) (1.15.0)\n",
            "Requirement already satisfied: opencv-python>=4.1.2 in /usr/local/lib/python3.7/dist-packages (from roboflow) (4.1.2.30)\n",
            "Requirement already satisfied: matplotlib in /usr/local/lib/python3.7/dist-packages (from roboflow) (3.2.2)\n",
            "Requirement already satisfied: requests in /usr/local/lib/python3.7/dist-packages (from roboflow) (2.26.0)\n",
            "Requirement already satisfied: chardet==4.0.0 in /usr/local/lib/python3.7/dist-packages (from roboflow) (4.0.0)\n",
            "Requirement already satisfied: numpy>=1.18.5 in /usr/local/lib/python3.7/dist-packages (from roboflow) (1.19.5)\n",
            "Requirement already satisfied: tqdm>=4.41.0 in /usr/local/lib/python3.7/dist-packages (from roboflow) (4.62.3)\n",
            "Requirement already satisfied: PyYAML>=5.3.1 in /usr/local/lib/python3.7/dist-packages (from roboflow) (6.0)\n",
            "Requirement already satisfied: urllib3==1.26.6 in /usr/local/lib/python3.7/dist-packages (from roboflow) (1.26.6)\n",
            "Requirement already satisfied: python-dateutil in /usr/local/lib/python3.7/dist-packages (from roboflow) (2.8.2)\n",
            "Requirement already satisfied: cycler==0.10.0 in /usr/local/lib/python3.7/dist-packages (from roboflow) (0.10.0)\n",
            "Requirement already satisfied: certifi==2021.5.30 in /usr/local/lib/python3.7/dist-packages (from roboflow) (2021.5.30)\n",
            "Requirement already satisfied: kiwisolver==1.3.1 in /usr/local/lib/python3.7/dist-packages (from roboflow) (1.3.1)\n",
            "Requirement already satisfied: charset-normalizer~=2.0.0 in /usr/local/lib/python3.7/dist-packages (from requests->roboflow) (2.0.8)\n",
            "loading Roboflow workspace...\n",
            "loading Roboflow project...\n",
            "Downloading Dataset Version Zip in AI-Playing-Cards-30 to yolov5pytorch: 100% [5973149 / 5973149] bytes\n"
          ]
        },
        {
          "output_type": "stream",
          "name": "stderr",
          "text": [
            "Extracting Dataset Version Zip to AI-Playing-Cards-30 in yolov5pytorch:: 100%|██████████| 603/603 [00:00<00:00, 5141.46it/s]\n"
          ]
        }
      ]
    },
    {
      "cell_type": "code",
      "metadata": {
        "colab": {
          "base_uri": "https://localhost:8080/"
        },
        "id": "_zutbtMVPUq0",
        "outputId": "48950d5c-2bd2-4ea3-c21f-71d8431979ec"
      },
      "source": [
        "%cat /content/yolov5/data.yaml\n",
        "#dataset.location = '/content/yolov5'\n",
        "# define number of classes based on YAML\n",
        "import yaml\n",
        "with open(dataset.location + \"/data.yaml\", 'r') as stream:\n",
        "    num_classes = str(yaml.safe_load(stream)['nc'])\n",
        "#this is the model configuration we will use for our tutorial \n",
        "%cat /content/yolov5/models/yolov5s.yaml\n",
        "#customize iPython writefile so we can write variables\n",
        "from IPython.core.magic import register_line_cell_magic\n",
        "\n",
        "@register_line_cell_magic\n",
        "def writetemplate(line, cell):\n",
        "    with open(line, 'w') as f:\n",
        "        f.write(cell.format(**globals()))"
      ],
      "execution_count": null,
      "outputs": [
        {
          "output_type": "stream",
          "name": "stdout",
          "text": [
            "cat: /content/yolov5/data.yaml: No such file or directory\n",
            "# parameters\n",
            "nc: 80  # number of classes\n",
            "depth_multiple: 0.33  # model depth multiple\n",
            "width_multiple: 0.50  # layer channel multiple\n",
            "\n",
            "# anchors\n",
            "anchors:\n",
            "  - [10,13, 16,30, 33,23]  # P3/8\n",
            "  - [30,61, 62,45, 59,119]  # P4/16\n",
            "  - [116,90, 156,198, 373,326]  # P5/32\n",
            "\n",
            "# YOLOv5 backbone\n",
            "backbone:\n",
            "  # [from, number, module, args]\n",
            "  [[-1, 1, Focus, [64, 3]],  # 0-P1/2\n",
            "   [-1, 1, Conv, [128, 3, 2]],  # 1-P2/4\n",
            "   [-1, 3, C3, [128]],\n",
            "   [-1, 1, Conv, [256, 3, 2]],  # 3-P3/8\n",
            "   [-1, 9, C3, [256]],\n",
            "   [-1, 1, Conv, [512, 3, 2]],  # 5-P4/16\n",
            "   [-1, 9, C3, [512]],\n",
            "   [-1, 1, Conv, [1024, 3, 2]],  # 7-P5/32\n",
            "   [-1, 1, SPP, [1024, [5, 9, 13]]],\n",
            "   [-1, 3, C3, [1024, False]],  # 9\n",
            "  ]\n",
            "\n",
            "# YOLOv5 head\n",
            "head:\n",
            "  [[-1, 1, Conv, [512, 1, 1]],\n",
            "   [-1, 1, nn.Upsample, [None, 2, 'nearest']],\n",
            "   [[-1, 6], 1, Concat, [1]],  # cat backbone P4\n",
            "   [-1, 3, C3, [512, False]],  # 13\n",
            "\n",
            "   [-1, 1, Conv, [256, 1, 1]],\n",
            "   [-1, 1, nn.Upsample, [None, 2, 'nearest']],\n",
            "   [[-1, 4], 1, Concat, [1]],  # cat backbone P3\n",
            "   [-1, 3, C3, [256, False]],  # 17 (P3/8-small)\n",
            "\n",
            "   [-1, 1, Conv, [256, 3, 2]],\n",
            "   [[-1, 14], 1, Concat, [1]],  # cat head P4\n",
            "   [-1, 3, C3, [512, False]],  # 20 (P4/16-medium)\n",
            "\n",
            "   [-1, 1, Conv, [512, 3, 2]],\n",
            "   [[-1, 10], 1, Concat, [1]],  # cat head P5\n",
            "   [-1, 3, C3, [1024, False]],  # 23 (P5/32-large)\n",
            "\n",
            "   [[17, 20, 23], 1, Detect, [nc, anchors]],  # Detect(P3, P4, P5)\n",
            "  ]\n"
          ]
        }
      ]
    },
    {
      "cell_type": "code",
      "metadata": {
        "id": "kOfyVguwPgDG"
      },
      "source": [
        "%%writetemplate /content/yolov5/models/custom_yolov5s.yaml\n",
        "\n",
        "# parameters\n",
        "nc: {num_classes}  # number of classes\n",
        "depth_multiple: 0.33  # model depth multiple\n",
        "width_multiple: 0.50  # layer channel multiple\n",
        "\n",
        "# anchors\n",
        "anchors:\n",
        "  - [10,13, 16,30, 33,23]  # P3/8\n",
        "  - [30,61, 62,45, 59,119]  # P4/16\n",
        "  - [116,90, 156,198, 373,326]  # P5/32\n",
        "\n",
        "# YOLOv5 backbone\n",
        "backbone:\n",
        "  # [from, number, module, args]\n",
        "  [[-1, 1, Focus, [64, 3]],  # 0-P1/2\n",
        "   [-1, 1, Conv, [128, 3, 2]],  # 1-P2/4\n",
        "   [-1, 3, BottleneckCSP, [128]],\n",
        "   [-1, 1, Conv, [256, 3, 2]],  # 3-P3/8\n",
        "   [-1, 9, BottleneckCSP, [256]],\n",
        "   [-1, 1, Conv, [512, 3, 2]],  # 5-P4/16\n",
        "   [-1, 9, BottleneckCSP, [512]],\n",
        "   [-1, 1, Conv, [1024, 3, 2]],  # 7-P5/32\n",
        "   [-1, 1, SPP, [1024, [5, 9, 13]]],\n",
        "   [-1, 3, BottleneckCSP, [1024, False]],  # 9\n",
        "  ]\n",
        "\n",
        "# YOLOv5 head\n",
        "head:\n",
        "  [[-1, 1, Conv, [512, 1, 1]],\n",
        "   [-1, 1, nn.Upsample, [None, 2, 'nearest']],\n",
        "   [[-1, 6], 1, Concat, [1]],  # cat backbone P4\n",
        "   [-1, 3, BottleneckCSP, [512, False]],  # 13\n",
        "\n",
        "   [-1, 1, Conv, [256, 1, 1]],\n",
        "   [-1, 1, nn.Upsample, [None, 2, 'nearest']],\n",
        "   [[-1, 4], 1, Concat, [1]],  # cat backbone P3\n",
        "   [-1, 3, BottleneckCSP, [256, False]],  # 17 (P3/8-small)\n",
        "\n",
        "   [-1, 1, Conv, [256, 3, 2]],\n",
        "   [[-1, 14], 1, Concat, [1]],  # cat head P4\n",
        "   [-1, 3, BottleneckCSP, [512, False]],  # 20 (P4/16-medium)\n",
        "\n",
        "   [-1, 1, Conv, [512, 3, 2]],\n",
        "   [[-1, 10], 1, Concat, [1]],  # cat head P5\n",
        "   [-1, 3, BottleneckCSP, [1024, False]],  # 23 (P5/32-large)\n",
        "\n",
        "   [[17, 20, 23], 1, Detect, [nc, anchors]],  # Detect(P3, P4, P5)\n",
        "  ]"
      ],
      "execution_count": null,
      "outputs": []
    },
    {
      "cell_type": "markdown",
      "source": [
        "#To get our best weights, download the file labeled \"final.pt\" from our git repository at https://github.com/USAFADFCS/cs471-pex-5-fall-2021-waz-and-garth\n",
        "#Upload to your google session and then add --weights /content/final.pt and it should run"
      ],
      "metadata": {
        "id": "JJZ5B8uzXcaJ"
      }
    },
    {
      "cell_type": "code",
      "metadata": {
        "id": "dBi5Qy_n5m3L",
        "colab": {
          "base_uri": "https://localhost:8080/"
        },
        "outputId": "e21c0a94-04f0-4e68-dc0f-b0b9c4ac0954"
      },
      "source": [
        "#Answer to Task 3. Place any code you use in this box\n",
        "%cd /content/yolov5/\n",
        "!python train.py --img 416 --batch 16 --epochs 2000 --data {dataset.location}/data.yaml --cfg ./models/custom_yolov5s.yaml --weights /content/final.pt --name yolov5s_results  --cache --exist-ok"
      ],
      "execution_count": null,
      "outputs": [
        {
          "output_type": "stream",
          "name": "stdout",
          "text": [
            "/content/yolov5\n",
            "\u001b[34m\u001b[1mgithub: \u001b[0m⚠️ WARNING: code is out of date by 713 commits. Use 'git pull' to update or 'git clone https://github.com/ultralytics/yolov5' to download latest.\n",
            "YOLOv5 v4.0-126-g886f1c0 torch 1.10.0+cu111 CUDA:0 (Tesla P100-PCIE-16GB, 16280.875MB)\n",
            "\n",
            "Namespace(adam=False, batch_size=16, bucket='', cache_images=True, cfg='./models/custom_yolov5s.yaml', data='/content/yolov5/AI-Playing-Cards-30/data.yaml', device='', entity=None, epochs=1, evolve=False, exist_ok=True, global_rank=-1, hyp='data/hyp.scratch.yaml', image_weights=False, img_size=[416, 416], linear_lr=False, local_rank=-1, log_artifacts=False, log_imgs=16, multi_scale=False, name='yolov5s_results', noautoanchor=False, nosave=False, notest=False, project='runs/train', quad=False, rect=False, resume=False, save_dir='runs/train/yolov5s_results', single_cls=False, sync_bn=False, total_batch_size=16, weights='/content/final.pt', workers=8, world_size=1)\n",
            "\u001b[34m\u001b[1mwandb: \u001b[0mInstall Weights & Biases for YOLOv5 logging with 'pip install wandb' (recommended)\n",
            "Start Tensorboard with \"tensorboard --logdir runs/train\", view at http://localhost:6006/\n",
            "\u001b[34m\u001b[1mhyperparameters: \u001b[0mlr0=0.01, lrf=0.2, momentum=0.937, weight_decay=0.0005, warmup_epochs=3.0, warmup_momentum=0.8, warmup_bias_lr=0.1, box=0.05, cls=0.5, cls_pw=1.0, obj=1.0, obj_pw=1.0, iou_t=0.2, anchor_t=4.0, fl_gamma=0.0, hsv_h=0.015, hsv_s=0.7, hsv_v=0.4, degrees=0.0, translate=0.1, scale=0.5, shear=0.0, perspective=0.0, flipud=0.0, fliplr=0.5, mosaic=1.0, mixup=0.0\n",
            "Traceback (most recent call last):\n",
            "  File \"train.py\", line 531, in <module>\n",
            "    train(hyp, opt, device, tb_writer, wandb)\n",
            "  File \"train.py\", line 77, in train\n",
            "    ckpt = torch.load(weights, map_location=device)  # load checkpoint\n",
            "  File \"/usr/local/lib/python3.7/dist-packages/torch/serialization.py\", line 594, in load\n",
            "    with _open_file_like(f, 'rb') as opened_file:\n",
            "  File \"/usr/local/lib/python3.7/dist-packages/torch/serialization.py\", line 230, in _open_file_like\n",
            "    return _open_file(name_or_buffer, mode)\n",
            "  File \"/usr/local/lib/python3.7/dist-packages/torch/serialization.py\", line 211, in __init__\n",
            "    super(_open_file, self).__init__(open(name, mode))\n",
            "FileNotFoundError: [Errno 2] No such file or directory: '/content/final.pt'\n"
          ]
        }
      ]
    },
    {
      "cell_type": "markdown",
      "source": [
        "###LOG and Notes\n",
        "###Our accuracy for a mAP@.5 is .995 and our accuracy for mAP@.5:.95 is .823\n",
        "- We originally tried data sets with varying degrees of training percentages without augmentation\n",
        "- Next we tried noise and rotation - not a good mAP\n",
        "- Tried the mosaic feature on same data - a little bit higher of mAP\n",
        "- Decided to add more data with a different background\n",
        "- Tried noise and rotation with new data\n",
        "- Attempted to change validation percentage with new data\n",
        "- Finally used mosaic and the bright augmentation with 585 training images and 31 validation images\n",
        "- Reached a mAP@.5 of .995 and mAP@.5:.95 of .823"
      ],
      "metadata": {
        "id": "hjA8KG34X5rA"
      }
    },
    {
      "cell_type": "markdown",
      "metadata": {
        "id": "qv40JgCq5WRI"
      },
      "source": [
        "## (20 pts) Task 3 Justify how well your model performs\n",
        "Provide charts showing at least the Mean Average Precision, Accuracy, and Recall of your model. Discuss the charts and what these results mean. You may want to include a discussion on overfitting and underfitting in your discussion. "
      ]
    },
    {
      "cell_type": "markdown",
      "metadata": {
        "id": "EzJlZA7v5sR3"
      },
      "source": [
        "###Answer to Task 3. \n",
        "We had trouble with google colab saving our files when we switched run times so our picture of our tensorboard is located in github under the name \"AI Tensor Board Readings.png.\"\n",
        "\n",
        "Judging from this reading, we think that we had overfitted our data because as can be seen in the top left graph, our mAP@0.5 stayed stagnant from around 600 epochs to 2000 epochs. Similarly, our mAP@.5:.95 stayed stagnant from around 1200 epochs to 2000 epochs. Despite these findings, we kept the model running because as can be seen in the bottom graphs, there was a fairly steady decline in training loss over the 2000 epochs.\n",
        "\n",
        "We think that our data is slight overfitted because we ran it for so many epochs and the mAP@.5:.95 stayed stagnant from around 1200 epochs to 2000 epochs. This could result in new testing data not being able to be predicted accurately. For example, if they were at an angle we did not use or if a different background was used, the model would have trouble identifying the correct card."
      ]
    },
    {
      "cell_type": "markdown",
      "metadata": {
        "id": "ys-bw08N5xVj"
      },
      "source": [
        "##(20 pts) Task 4. Connect your model to Webcam streaming\n",
        "\n",
        "Enable your model to predict in real-time on a web camera, using your custom model. If the objects you train your model to are not something commonly available, please provide the web cam code and a pre-recorded video of you detecting the object. \n",
        "\n",
        "Hint: On the left hand side, Google Colab gives you code for accessing your webcam with Javascript. Use this code to get your webcam working. YOLO has a webcam input functionality built-in, but you cannot use this functionality, because it is attempting to open the webcam on Google's server and not your laptop. To execute this step\n",
        "\n",
        "1.   Modify the webcam code so that it will open the webcam,\n",
        "2.   take a picture,\n",
        "1.   close the webcam,\n",
        "2.   run the detection algorithm,\n",
        "1.   display the detection image\n",
        "2.   and then repeat 5 times.\n",
        "\n",
        "This will not be the same as real-time webcam footage, but it will get you as close as you can get on Google Colab. \n"
      ]
    },
    {
      "cell_type": "markdown",
      "source": [
        "###Testing\n",
        "To test your pictures that you take, modify the code below and the source depending on where the photos are stored. All of the photos that would took along with their detection counterparts are on github labeled as \"photox.jpg\" and \"photoxdet.jpg.\""
      ],
      "metadata": {
        "id": "_dZIrHMefIm4"
      }
    },
    {
      "cell_type": "code",
      "source": [
        "from IPython.display import display, Javascript\n",
        "from google.colab.output import eval_js\n",
        "from base64 import b64decode\n",
        "\n",
        "def take_photo(filename='photo5.jpg', quality=0.8):\n",
        "  js = Javascript('''\n",
        "    async function takePhoto(quality) {\n",
        "      const div = document.createElement('div');\n",
        "      const capture = document.createElement('button');\n",
        "      capture.textContent = 'Capture';\n",
        "      div.appendChild(capture);\n",
        "\n",
        "      const video = document.createElement('video');\n",
        "      video.style.display = 'block';\n",
        "      const stream = await navigator.mediaDevices.getUserMedia({video: true});\n",
        "\n",
        "      document.body.appendChild(div);\n",
        "      div.appendChild(video);\n",
        "      video.srcObject = stream;\n",
        "      await video.play();\n",
        "\n",
        "      // Resize the output to fit the video element.\n",
        "      google.colab.output.setIframeHeight(document.documentElement.scrollHeight, true);\n",
        "\n",
        "      // Wait for Capture to be clicked.\n",
        "      await new Promise((resolve) => capture.onclick = resolve);\n",
        "\n",
        "      const canvas = document.createElement('canvas');\n",
        "      canvas.width = video.videoWidth;\n",
        "      canvas.height = video.videoHeight;\n",
        "      canvas.getContext('2d').drawImage(video, 0, 0);\n",
        "      stream.getVideoTracks()[0].stop();\n",
        "      div.remove();\n",
        "      return canvas.toDataURL('image/jpeg', quality);\n",
        "    }\n",
        "    ''')\n",
        "  display(js)\n",
        "  data = eval_js('takePhoto({})'.format(quality))\n",
        "  binary = b64decode(data.split(',')[1])\n",
        "  with open(filename, 'wb') as f:\n",
        "    f.write(binary)\n",
        "  return filename"
      ],
      "metadata": {
        "id": "eCxtZmAaa7F0"
      },
      "execution_count": null,
      "outputs": []
    },
    {
      "cell_type": "code",
      "source": [
        "from IPython.display import Image\n",
        "try:\n",
        "  filename = take_photo()\n",
        "  print('Saved to {}'.format(filename))\n",
        "  \n",
        "  # Show the image which was just taken.\n",
        "  display(Image(filename))\n",
        "except Exception as err:\n",
        "  # Errors will be thrown if the user does not have a webcam or if they do not\n",
        "  # grant the page permission to access it.\n",
        "  print(str(err))"
      ],
      "metadata": {
        "colab": {
          "base_uri": "https://localhost:8080/",
          "height": 514
        },
        "id": "LK2q7tQKa7F0",
        "outputId": "c69f8fe1-d8b6-4732-d23e-0e1204791259"
      },
      "execution_count": null,
      "outputs": [
        {
          "output_type": "display_data",
          "data": {
            "application/javascript": [
              "\n",
              "    async function takePhoto(quality) {\n",
              "      const div = document.createElement('div');\n",
              "      const capture = document.createElement('button');\n",
              "      capture.textContent = 'Capture';\n",
              "      div.appendChild(capture);\n",
              "\n",
              "      const video = document.createElement('video');\n",
              "      video.style.display = 'block';\n",
              "      const stream = await navigator.mediaDevices.getUserMedia({video: true});\n",
              "\n",
              "      document.body.appendChild(div);\n",
              "      div.appendChild(video);\n",
              "      video.srcObject = stream;\n",
              "      await video.play();\n",
              "\n",
              "      // Resize the output to fit the video element.\n",
              "      google.colab.output.setIframeHeight(document.documentElement.scrollHeight, true);\n",
              "\n",
              "      // Wait for Capture to be clicked.\n",
              "      await new Promise((resolve) => capture.onclick = resolve);\n",
              "\n",
              "      const canvas = document.createElement('canvas');\n",
              "      canvas.width = video.videoWidth;\n",
              "      canvas.height = video.videoHeight;\n",
              "      canvas.getContext('2d').drawImage(video, 0, 0);\n",
              "      stream.getVideoTracks()[0].stop();\n",
              "      div.remove();\n",
              "      return canvas.toDataURL('image/jpeg', quality);\n",
              "    }\n",
              "    "
            ],
            "text/plain": [
              "<IPython.core.display.Javascript object>"
            ]
          },
          "metadata": {}
        },
        {
          "output_type": "stream",
          "name": "stdout",
          "text": [
            "Saved to photo5.jpg\n"
          ]
        },
        {
          "output_type": "display_data",
          "data": {
            "image/jpeg": "[encoded data removed]",
            "text/plain": [
              "<IPython.core.display.Image object>"
            ]
          },
          "metadata": {}
        }
      ]
    },
    {
      "cell_type": "code",
      "metadata": {
        "id": "AjShfcBpXRbQ",
        "colab": {
          "base_uri": "https://localhost:8080/"
        },
        "outputId": "08b47869-217e-4852-efa6-c0035f5f2555"
      },
      "source": [
        "!python detect.py --weights /content/final.pt --img 416 --conf 0.2 --source /content/Detect.py\\ Pictures/photo5.jpg"
      ],
      "execution_count": null,
      "outputs": [
        {
          "output_type": "stream",
          "name": "stdout",
          "text": [
            "Namespace(agnostic_nms=False, augment=False, classes=None, conf_thres=0.2, device='', exist_ok=False, img_size=416, iou_thres=0.45, name='exp', project='runs/detect', save_conf=False, save_txt=False, source='/content/Detect.py Pictures/photo5.jpg', update=False, view_img=False, weights=['/content/final.pt'])\n",
            "YOLOv5 v4.0-126-g886f1c0 torch 1.10.0+cu111 CUDA:0 (Tesla P100-PCIE-16GB, 16280.875MB)\n",
            "\n",
            "Fusing layers... \n",
            "/usr/local/lib/python3.7/dist-packages/torch/functional.py:445: UserWarning: torch.meshgrid: in an upcoming release, it will be required to pass the indexing argument. (Triggered internally at  ../aten/src/ATen/native/TensorShape.cpp:2157.)\n",
            "  return _VF.meshgrid(tensors, **kwargs)  # type: ignore[attr-defined]\n",
            "Model Summary: 232 layers, 7384065 parameters, 0 gradients, 17.2 GFLOPS\n",
            "Traceback (most recent call last):\n",
            "  File \"detect.py\", line 175, in <module>\n",
            "    detect()\n",
            "  File \"detect.py\", line 53, in detect\n",
            "    dataset = LoadImages(source, img_size=imgsz, stride=stride)\n",
            "  File \"/content/yolov5/utils/datasets.py\", line 132, in __init__\n",
            "    raise Exception(f'ERROR: {p} does not exist')\n",
            "Exception: ERROR: /content/Detect.py Pictures/photo5.jpg does not exist\n"
          ]
        }
      ]
    },
    {
      "cell_type": "markdown",
      "metadata": {
        "id": "cfzjxmhy7jbI"
      },
      "source": [
        "##(10 pts) Task 5. Create something interesting using your model\n",
        "\n",
        "You have a limited time, so don't make this a huge feature, just something cool your model could do. For example, something that counts the objects coming across the webcam would receive full points. If you have a more creative idea, I may be inclined to add some bonus points, but make sure you are taking care of your other classwork as well. \n",
        "\n",
        "We can add up all of the numbers or something"
      ]
    },
    {
      "cell_type": "markdown",
      "source": [
        "###What We Did\n",
        "The code snippet below saves your picture along with a text file. The text file has the bounding box location numbers, the classification, and the confidence of the card being correct. To add your own photos, change the source.\n",
        "\n",
        "The code below that is what we did with our pictures. As before, change the file parameter to whatever photo you want to examine. It takes the photo and determines which cards are present. This was a harder task than we thought because the program classifies each card as a number and not the class that it was named on roboflow. Because of this, we had to create a separate array and cross reference each card with the number the text file gave it."
      ],
      "metadata": {
        "id": "Hin014r2frcq"
      }
    },
    {
      "cell_type": "code",
      "source": [
        "!python detect.py --save-txt --save-conf --weights /content/final.pt --img 416 --conf 0.2 --source /content/photo1.jpg"
      ],
      "metadata": {
        "colab": {
          "base_uri": "https://localhost:8080/"
        },
        "id": "Dpw4-8iSGp31",
        "outputId": "787b7016-487d-4493-c284-6eb569a9ae9a"
      },
      "execution_count": null,
      "outputs": [
        {
          "output_type": "stream",
          "name": "stdout",
          "text": [
            "Namespace(agnostic_nms=False, augment=False, classes=None, conf_thres=0.2, device='', exist_ok=False, img_size=416, iou_thres=0.45, name='exp', project='runs/detect', save_conf=True, save_txt=True, source='/content/photo1.jpg', update=False, view_img=False, weights=['/content/final.pt'])\n",
            "YOLOv5 v4.0-126-g886f1c0 torch 1.10.0+cu111 CUDA:0 (Tesla P100-PCIE-16GB, 16280.875MB)\n",
            "\n",
            "Fusing layers... \n",
            "/usr/local/lib/python3.7/dist-packages/torch/functional.py:445: UserWarning: torch.meshgrid: in an upcoming release, it will be required to pass the indexing argument. (Triggered internally at  ../aten/src/ATen/native/TensorShape.cpp:2157.)\n",
            "  return _VF.meshgrid(tensors, **kwargs)  # type: ignore[attr-defined]\n",
            "Model Summary: 232 layers, 7384065 parameters, 0 gradients, 17.2 GFLOPS\n",
            "image 1/1 /content/photo1.jpg: 320x416 2 3Cs, 2 JDs, 2 QCs, Done. (0.015s)\n",
            "Results saved to runs/detect/exp5\n",
            "1 labels saved to runs/detect/exp5/labels\n",
            "Done. (0.034s)\n"
          ]
        }
      ]
    },
    {
      "cell_type": "code",
      "source": [
        "file = open(\"/content/yolov5/runs/detect/exp/labels/photo1.txt\", 'r')\n",
        "contents = file.readlines()\n",
        "check = []\n",
        "final = []\n",
        "for i in range(len(contents)):\n",
        "  if contents[i][1] == ' ':\n",
        "    temp = contents[i][0]\n",
        "    temp = int(temp)\n",
        "    check.append(temp)\n",
        "  else:\n",
        "    temp = contents[i][0] + contents[i][1]\n",
        "    temp = int(temp)\n",
        "    check.append(temp)\n",
        "cards = [\"10C\", \"10D\", \"10H\", \"10S\", \"2C\", \"2D\", \"2H\", \"2S\", \"3C\", \n",
        "         \"3D\", \"3H\", \"3S\", \"4C\", \"4D\", \"4H\", \"4S\", \"5C\", \"5D\", \"5H\", \n",
        "         \"5S\", \"6C\", \"6D\", \"6H\", \"6S\", \"7C\", \"7D\", \"7H\", \"7S\", \"8C\", \n",
        "         \"8D\", \"8H\", \"8S\", \"9C\", \"9D\", \"9H\", \"9S\", \"AC\", \"AD\", \"AH\", \n",
        "         \"AS\", \"JC\", \"JD\", \"JH\", \"JS\", \"KC\", \"KD\", \"KH\", \"KS\", \"QC\", \n",
        "         \"QD\", \"QH\", \"QS\"]\n",
        "for i in range(len(check)):\n",
        "  if cards[check[i]] not in final:\n",
        "    final.append(cards[check[i]])\n",
        "\n",
        "\n",
        "for i in range(len(final)):\n",
        "  print(final[i])\n"
      ],
      "metadata": {
        "colab": {
          "base_uri": "https://localhost:8080/"
        },
        "id": "5asyG5EIP3MX",
        "outputId": "d93cf346-2ab2-4b83-a3a0-0c6a300bd3b4"
      },
      "execution_count": null,
      "outputs": [
        {
          "output_type": "stream",
          "name": "stdout",
          "text": [
            "range(0, 6)\n",
            "3C\n",
            "JD\n",
            "QC\n"
          ]
        }
      ]
    },
    {
      "cell_type": "markdown",
      "metadata": {
        "id": "KvelYJcI8Ove"
      },
      "source": [
        "### (10 pts) Task 6. Write 300-500 words on the ethical implications of your project.\n",
        "Make sure you support your thoughts with ethical frameworks from ACM, IEEE, or any other reputible source. "
      ]
    },
    {
      "cell_type": "markdown",
      "metadata": {
        "id": "Ktf121Zv8c8c"
      },
      "source": [
        "##Answer to Task 6\n",
        "While implementing the YoloV5 algorithm for this PEX, there was a concern with privacy that came up. Although we were only training the algorithm to recognize different card suits and numbers, it would be easy to switch the training data to something with greater ability to violate privacy. This concern was also brought up by the YOLOv1, 2, and 3 creator, Joseph Redmon. He is specifically quoted saying “I loved the work but the military applications and privacy concerns eventually became impossible to ignore.” One example of a potential privacy violation in relation to the YoloV5 algorithm is facial recognition. As high definition cameras become more and more prevalent in the world, a well trained YoloV5 algorithm could easily be implemented. Once weights are generated that are accurately able to differentiate based on different facial structures, it would not be difficult to watch real time for certain faces.\n",
        "\n",
        "Although this certainly would be beneficial in certain situations, for example while looking for fugitives, there is also great potential for misuse. To analyze the ethical considerations of this possibility, a pillar from the ACM Code of Ethics will be applied. This pillar, pertaining to respecting privacy, states, “Computing professionals should only use personal information for legitimate ends and without violating the rights of individuals and groups” (ACM). Applying this principle, if a facial recognition algorithm was used to track people for illegitimate reasons, it would very much be a violation of privacy and therefore an ethical violation. A real life example of this facial recognition system is in China. According to a Washington Post article, “face-identification cameras are not only used by police, but have been proudly displayed in commercial settings for years.” Any developer of image recognition software would have to be careful to ensure that the developed software that was created was not used for purposes outside of its original design.   \n",
        "\n",
        "\n",
        "\n",
        "Works Cited\n",
        "https://www.washingtonpost.com/world/facial-recognition-china-tech-data/2021/07/30/404c2e96-f049-11eb-81b2-9b7061a582d8_story.html \n",
        "https://brunocapuano.files.wordpress.com/2020/06/joe-redmon-not-yolo-anymore.png?w=1008 \n",
        "https://www.acm.org/code-of-ethics "
      ]
    }
  ]
}